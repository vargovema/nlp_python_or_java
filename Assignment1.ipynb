{
 "cells": [
  {
   "cell_type": "markdown",
   "metadata": {},
   "source": [
    "\n",
    "# Home Assignment 1\n",
    "## Data Science IV, Summer Semester 2021\n",
    "### Instructor: Johannes Wachs\n",
    "----\n",
    "### Instructions \n",
    "Answer the following questions with a mixture of code (Python 3) and markdown cells, as appropriate. Your submission should be a Jupyter notebook (.ipynb). Your notebook should run from beginning to end - please test this before you submit. You may use libraries or code written in class, unless specifically noted otherwise.\n",
    "\n",
    "Submit your solutions via Learn by ***23.59pm on Friday, October 29th 2021***. Late submissions are accepted for 12 hours following the deadline, with 1/3 of the total possible points deducted from the score.\n",
    "\n",
    "It is ok to borrow code from online sources, if you cite all your sources. Plagiarism will result in an automatic score of 0 points. You may discuss the assignment with your classmates, but everyone should write their own code."
   ]
  },
  {
   "cell_type": "markdown",
   "metadata": {},
   "source": [
    "### Please fill in:\n",
    "Student name: Ema Vargova\n",
    "\n",
    "WU Student ID: h11914081"
   ]
  },
  {
   "cell_type": "markdown",
   "metadata": {},
   "source": [
    "----\n",
    "### Task 1: Write your own bootstrap. (20 Points)\n",
    "Write a function that:\n",
    "- takes a list of numbers as input\n",
    "- calculates their mean\n",
    "- bootstraps (1000 times) the mean\n",
    "- returns a list with three elements: the mean, and the lower and upper bounds of the 95\\% confidence interval of the bootstrapped mean."
   ]
  },
  {
   "cell_type": "code",
   "execution_count": 25,
   "metadata": {},
   "outputs": [
    {
     "data": {
      "text/plain": [
       "[1134.4444, 108.4528, 2525.35]"
      ]
     },
     "execution_count": 25,
     "metadata": {},
     "output_type": "execute_result"
    }
   ],
   "source": [
    "import numpy as np\n",
    "import pandas as pd\n",
    "\n",
    "def bootstrap_mean_CI(input_list):\n",
    "    input_list = pd.DataFrame(input_list)\n",
    "    bootstrapped_data_means = []\n",
    "    for i in range(1000):\n",
    "        bootstrapped_data=input_list.sample(n=len(input_list),replace=True) #taking a sample from the input_list\n",
    "        bootstrapped_data_means.append(float(np.mean(bootstrapped_data))) #appending mean of the sample to a list\n",
    "    res = [float(round(np.mean(input_list),4)), #the true mean of the sample\n",
    "           round(np.percentile(bootstrapped_data_means,2.5),4), #lower bound of the 95% confidence interval\n",
    "           round(np.percentile(bootstrapped_data_means,97.5),4)] #upper bound of the 95% confidence interval\n",
    "    return res\n",
    "\n",
    "bootstrap_mean_CI([1,7,6,7,99,956,5675,3,3456])"
   ]
  },
  {
   "cell_type": "markdown",
   "metadata": {},
   "source": [
    "Write a more general function that takes two inputs:\n",
    "- a list of numbers\n",
    "- a function implementing a statistical measure (i.e. the mean, median, variance)\n",
    "And outputs the statistic and a bootstrapped estimate of the 95% confidence interval. Note: you can pass functions by name as arguments to a function."
   ]
  },
  {
   "cell_type": "code",
   "execution_count": 26,
   "metadata": {},
   "outputs": [
    {
     "data": {
      "text/plain": [
       "[3721196.0247, 1535.8099, 6826941.5556]"
      ]
     },
     "execution_count": 26,
     "metadata": {},
     "output_type": "execute_result"
    }
   ],
   "source": [
    "def bootstrap_general_CI(input_list, statistical_function):\n",
    "    bootstrapped_data_stat = []\n",
    "    input_list = pd.DataFrame(input_list)\n",
    "    for i in range(1000):\n",
    "        bootstrapped_data=input_list.sample(n=len(input_list),replace=True) #taking a sample from the input_list\n",
    "        bootstrapped_data_stat.append(float(statistical_function(bootstrapped_data))) #appending the statistical measure of the sample to a list\n",
    "    res = [float(round(statistical_function(input_list),4)), #the true statistical measure of the sample\n",
    "           round(np.percentile(bootstrapped_data_stat,2.5),4), #lower bound of the 95% confidence interval\n",
    "           round(np.percentile(bootstrapped_data_stat,97.5),4)] #upper bound of the 95% confidence interval\n",
    "    return res\n",
    "\n",
    "bootstrap_general_CI([1,7,6,7,99,956,5675,3,3456],np.var)"
   ]
  },
  {
   "cell_type": "markdown",
   "metadata": {},
   "source": [
    "Draw 1000 samples from a Poisson distribution with mean 10. Apply your general function to calculate the mean and estimate the 95% confidence interval. Repeat for the standard deviation."
   ]
  },
  {
   "cell_type": "code",
   "execution_count": 27,
   "metadata": {},
   "outputs": [
    {
     "name": "stdout",
     "output_type": "stream",
     "text": [
      "[9.947, 9.746, 10.1391]\n",
      "[3.1126, 2.9695, 3.2466]\n"
     ]
    }
   ],
   "source": [
    "poisson_dis = np.random.poisson(10, 1000) #defining samples from a Poission distribution\n",
    "\n",
    "print(bootstrap_general_CI(poisson_dis,np.mean))\n",
    "print(bootstrap_general_CI(poisson_dis,np.std))"
   ]
  },
  {
   "cell_type": "markdown",
   "metadata": {},
   "source": [
    "-----\n",
    "### Task 2: Finding correlations in random data. (20 Points)\n",
    "- Generate 100 vectors of 100 numbers each, drawn from a normal distribution with mean 0 and standard deviation 1.\n",
    "- Calculate the Pearson correlations between all pairs of vectors.\n",
    "- Plot a histogram of the correlations - be sure to label your axes.\n",
    "- Select the pair of vectors with the greatest (in absolute value) correlation. Calculate the statistical significance of this correlation, either using a built in library function, or by writing your own.\n",
    "- Interpret your findings: is the correlation statistically significant? Hint: think of jellybeans. "
   ]
  },
  {
   "cell_type": "code",
   "execution_count": 28,
   "metadata": {},
   "outputs": [
    {
     "name": "stdout",
     "output_type": "stream",
     "text": [
      "(0.37493971482603916, 0.0001213149103617205)\n"
     ]
    },
    {
     "data": {
      "image/png": "[encoded data removed]",
      "text/plain": [
       "<Figure size 1080x720 with 1 Axes>"
      ]
     },
     "metadata": {
      "needs_background": "light"
     },
     "output_type": "display_data"
    }
   ],
   "source": [
    "from scipy.stats import pearsonr\n",
    "import matplotlib.pyplot as plt\n",
    "\n",
    "np.random.seed(100)\n",
    "df = pd.DataFrame()\n",
    "bootstrapped_correlations = []\n",
    "log=[[],[],[]]\n",
    "for i in range(100):\n",
    "    df[i] = list(np.random.normal(size=100)) #generating a data frame of 100 variables with 100 values each drawn from a nurmal distribution\n",
    "for i in range(len(df)):\n",
    "    for j in range(i,len(df)-1):\n",
    "        r=pearsonr(df[i],df[j+1])[0] #calculating pearson's coeff between all pairs of vectors\n",
    "        bootstrapped_correlations.append(r)\n",
    "        log[0].append(abs(r)) #storing the coeff calculates\n",
    "        log[1].append(i) #storing the index of the first variable used \n",
    "        log[2].append(j+1) #storing the index of the second variable used \n",
    "\n",
    "plt.figure(figsize=(15,10))\n",
    "plt.hist(bootstrapped_correlations,bins='auto',rwidth=0.9)\n",
    "plt.axvline(np.mean(bootstrapped_correlations),color='red')\n",
    "plt.xlabel(\"Pearson's coeffients\",size=15)\n",
    "plt.ylabel('Frequency',size=15)\n",
    "\n",
    "max_index = log[0].index(max(log[0])) #getting the index of the highest pearson's coeff\n",
    "\n",
    "prep_val_x = log[1][max_index] #getting the index of the first variable used to calculate the highest pearson's coeff\n",
    "prep_val_y = log[2][max_index] #getting the index of the second variable used to calculate the highest pearson's coeff\n",
    "cor_max = pearsonr(df[prep_val_x],df[prep_val_y]) #calculating the correlation again between the two variables\n",
    "print(cor_max)"
   ]
  },
  {
   "cell_type": "markdown",
   "metadata": {},
   "source": [
    "The strongest linear relationship among the different vectors is given by Pearson's coefficient of 0.3749 with the p-value of 0.0001 meaning that the relationship between the two random variables is significant at 5% singificance level. However, when removing the seed from the simulation, we see that the significance of the model changes quite often which is simply explained by pure chance as we are running 100 simulations with the significance level 5% meaning that 1 in 20 of the p-values in the simulation will result in rejecting the null hypothesis, hence, being significant and the rest failing the significance test the given level alpha of 0.05."
   ]
  },
  {
   "cell_type": "markdown",
   "metadata": {},
   "source": [
    "-----\n",
    "### Task 3: Regex practice (10 Points)\n",
    "- Using the library re, write a function including a regex that finds the positions of all leading 0s. Example: \"I have 023 apples and 0301 oranges and 008 strawberries\" has four leading zeros.\n",
    "- Define a function that finds all dates in a string of the format dd-mm-yyyy OR mm-dd-yyyy. To keep it simple invalid dates (for example 50-50-2004) are ok."
   ]
  },
  {
   "cell_type": "code",
   "execution_count": 29,
   "metadata": {},
   "outputs": [
    {
     "data": {
      "text/plain": [
       "[7, 22, 39]"
      ]
     },
     "execution_count": 29,
     "metadata": {},
     "output_type": "execute_result"
    }
   ],
   "source": [
    "import re\n",
    "def leading_zeros(input_string):\n",
    "    pattern = '0[A-Za-z0-9_]+'\n",
    "    res=re.findall(pattern,input_string)\n",
    "    for i in range(len(res)):\n",
    "        res[i] = input_string.index(res[i])\n",
    "    return res \n",
    "\n",
    "leading_zeros(\"I have 023 apples and 0301 oranges and 008 strawberries\")"
   ]
  },
  {
   "cell_type": "code",
   "execution_count": 30,
   "metadata": {},
   "outputs": [
    {
     "data": {
      "text/plain": [
       "['12-12-2012']"
      ]
     },
     "execution_count": 30,
     "metadata": {},
     "output_type": "execute_result"
    }
   ],
   "source": [
    "def find_all_dates(input_string):\n",
    "    pattern = '[0-9][0-9]-[0-9][0-9]-[0-9][0-9][0-9][0-9]'\n",
    "    res=re.findall(pattern,input_string)\n",
    "    return res \n",
    "\n",
    "find_all_dates(\"hello, 50-0-2004 and 12-12-2012\")"
   ]
  },
  {
   "cell_type": "markdown",
   "metadata": {},
   "source": [
    "-----\n",
    "### Task 4: Overfitting (20 Points)\n",
    "\n",
    "- Simulate data generated from a Cosine function on the interval from 0 to 4. Do this by:\n",
    "1. randomly drawing 1000 values from the interval from 0 to 4\n",
    "2. evaluating the cosine of each value and adding a bit of noise (a value drawn from a normal distribution with mean 0 and standard deviation .1).\n",
    "- Plot the resulting simulated data.\n",
    "- Carry out a test-train split of the data.\n",
    "- Fit polynomial regression models of degree 1 (i.e. a linear model), 2 (quadratic), 3 (cubic), up to degree 10 to the training data. Report the root mean squared error (RMSE) of each model on the held out test data.\n",
    "- Interpret: which model would you use to generalize?"
   ]
  },
  {
   "cell_type": "code",
   "execution_count": 31,
   "metadata": {},
   "outputs": [
    {
     "data": {
      "text/html": [
       "<div>\n",
       "<style scoped>\n",
       "    .dataframe tbody tr th:only-of-type {\n",
       "        vertical-align: middle;\n",
       "    }\n",
       "\n",
       "    .dataframe tbody tr th {\n",
       "        vertical-align: top;\n",
       "    }\n",
       "\n",
       "    .dataframe thead th {\n",
       "        text-align: right;\n",
       "    }\n",
       "</style>\n",
       "<table border=\"1\" class=\"dataframe\">\n",
       "  <thead>\n",
       "    <tr style=\"text-align: right;\">\n",
       "      <th></th>\n",
       "      <th>Degree of regression model</th>\n",
       "      <th>RMSE</th>\n",
       "    </tr>\n",
       "  </thead>\n",
       "  <tbody>\n",
       "    <tr>\n",
       "      <th>0</th>\n",
       "      <td>1.0</td>\n",
       "      <td>0.260106</td>\n",
       "    </tr>\n",
       "    <tr>\n",
       "      <th>1</th>\n",
       "      <td>2.0</td>\n",
       "      <td>0.177774</td>\n",
       "    </tr>\n",
       "    <tr>\n",
       "      <th>2</th>\n",
       "      <td>3.0</td>\n",
       "      <td>0.101953</td>\n",
       "    </tr>\n",
       "    <tr>\n",
       "      <th>3</th>\n",
       "      <td>4.0</td>\n",
       "      <td>0.100650</td>\n",
       "    </tr>\n",
       "    <tr>\n",
       "      <th>4</th>\n",
       "      <td>5.0</td>\n",
       "      <td>0.101471</td>\n",
       "    </tr>\n",
       "    <tr>\n",
       "      <th>5</th>\n",
       "      <td>6.0</td>\n",
       "      <td>0.101432</td>\n",
       "    </tr>\n",
       "    <tr>\n",
       "      <th>6</th>\n",
       "      <td>7.0</td>\n",
       "      <td>0.101634</td>\n",
       "    </tr>\n",
       "    <tr>\n",
       "      <th>7</th>\n",
       "      <td>8.0</td>\n",
       "      <td>0.101787</td>\n",
       "    </tr>\n",
       "    <tr>\n",
       "      <th>8</th>\n",
       "      <td>9.0</td>\n",
       "      <td>0.102318</td>\n",
       "    </tr>\n",
       "    <tr>\n",
       "      <th>9</th>\n",
       "      <td>10.0</td>\n",
       "      <td>0.102351</td>\n",
       "    </tr>\n",
       "  </tbody>\n",
       "</table>\n",
       "</div>"
      ],
      "text/plain": [
       "   Degree of regression model      RMSE\n",
       "0                         1.0  0.260106\n",
       "1                         2.0  0.177774\n",
       "2                         3.0  0.101953\n",
       "3                         4.0  0.100650\n",
       "4                         5.0  0.101471\n",
       "5                         6.0  0.101432\n",
       "6                         7.0  0.101634\n",
       "7                         8.0  0.101787\n",
       "8                         9.0  0.102318\n",
       "9                        10.0  0.102351"
      ]
     },
     "metadata": {},
     "output_type": "display_data"
    }
   ],
   "source": [
    "import random as ran\n",
    "from sklearn.metrics import mean_squared_error\n",
    "from sklearn.model_selection import train_test_split\n",
    "\n",
    "np.random.seed(50)\n",
    "res=pd.DataFrame({'Degree of regression model':[],'RMSE':[]})\n",
    "df=pd.DataFrame({'X':[],'Y':[]})\n",
    "df['X']=np.random.uniform(0, 4, 1000) #generating random numbers\n",
    "noise = np.random.normal(0,0.1,size=1000) #generating noice values\n",
    "df['Y']=np.cos(df['X'])+noise #generating response variables\n",
    "\n",
    "#test-train split of the data\n",
    "X_train, X_test, y_train, y_test = train_test_split(df['X'], df['Y'], test_size=.5, random_state=20)\n",
    "\n",
    "for i in range(10):\n",
    "    model = np.poly1d(np.polyfit(X_train, y_train, i+1)) #training the polynomial regression model\n",
    "    y_pred = model(X_test) #predicting y values\n",
    "    MSE = mean_squared_error(y_test, y_pred) #getting the mean squared error valuw for the model\n",
    "    RMSE = np.sqrt(MSE)  #getting the root mean squared error valuw for the model\n",
    "    res.loc[len(res.index)] = [int(i+1),RMSE] #storing the degree and RMSE of the model in a dataframe \n",
    "display(res)"
   ]
  },
  {
   "cell_type": "markdown",
   "metadata": {},
   "source": [
    "Best performing model:"
   ]
  },
  {
   "cell_type": "code",
   "execution_count": 32,
   "metadata": {},
   "outputs": [
    {
     "data": {
      "text/html": [
       "<div>\n",
       "<style scoped>\n",
       "    .dataframe tbody tr th:only-of-type {\n",
       "        vertical-align: middle;\n",
       "    }\n",
       "\n",
       "    .dataframe tbody tr th {\n",
       "        vertical-align: top;\n",
       "    }\n",
       "\n",
       "    .dataframe thead th {\n",
       "        text-align: right;\n",
       "    }\n",
       "</style>\n",
       "<table border=\"1\" class=\"dataframe\">\n",
       "  <thead>\n",
       "    <tr style=\"text-align: right;\">\n",
       "      <th></th>\n",
       "      <th>Degree of regression model</th>\n",
       "      <th>RMSE</th>\n",
       "    </tr>\n",
       "  </thead>\n",
       "  <tbody>\n",
       "    <tr>\n",
       "      <th>3</th>\n",
       "      <td>4.0</td>\n",
       "      <td>0.10065</td>\n",
       "    </tr>\n",
       "  </tbody>\n",
       "</table>\n",
       "</div>"
      ],
      "text/plain": [
       "   Degree of regression model     RMSE\n",
       "3                         4.0  0.10065"
      ]
     },
     "metadata": {},
     "output_type": "display_data"
    }
   ],
   "source": [
    "best_degree=int(res[res.RMSE == res.RMSE.min()]['Degree of regression model']) #getting the degree of min RMSE model\n",
    "display(res[res.RMSE == res.RMSE.min()])"
   ]
  },
  {
   "cell_type": "code",
   "execution_count": 33,
   "metadata": {},
   "outputs": [
    {
     "data": {
      "text/plain": [
       "[<matplotlib.lines.Line2D at 0x7faf80f85160>]"
      ]
     },
     "execution_count": 33,
     "metadata": {},
     "output_type": "execute_result"
    },
    {
     "data": {
      "image/png": "[encoded data removed]",
      "text/plain": [
       "<Figure size 1080x720 with 1 Axes>"
      ]
     },
     "metadata": {
      "needs_background": "light"
     },
     "output_type": "display_data"
    }
   ],
   "source": [
    "best_fit_model=np.poly1d(np.polyfit(X_train, y_train, best_degree)) #training the best polynomial model again\n",
    "\n",
    "plt.figure(figsize=(15,10))\n",
    "plt.scatter(df['X'],df['Y'],color='black')\n",
    "plt.xlabel(\"x\",size=15)\n",
    "plt.ylabel('y',size=15)\n",
    "\n",
    "myline = np.linspace(0,4)\n",
    "plt.plot(myline, best_fit_model(myline), color=\"red\", lw=5) #plotting the best model"
   ]
  },
  {
   "cell_type": "markdown",
   "metadata": {},
   "source": [
    "The best model fit which minimize the root mean squared error (RMSE) is the polynomial model of the fourth degree for which the RMSE value is 0.101 which is the lowest achieved out of all polynomial models fitted."
   ]
  },
  {
   "cell_type": "markdown",
   "metadata": {},
   "source": [
    "-----\n",
    "### Task 5: Python or Java? (30 Points)\n",
    "Stack Overflow is a platform for people to ask and answer questions about computer programming. The site uses a system of tags to label posts. These tags help users search for questions. Often users do not tag their posts but NLP can help. \n",
    "\n",
    "In this task, your goal will be to train a machine learning classifier to distinguish between questions tagged *python* and *java* using the text of the question. The resulting classifier represents a first step towards a system that can automatically categorize new incoming posts.\n",
    "\n",
    "I have provided you with a random sample of 1000 posts tagged python and 1000 posts tagged java. Note that none of the posts in your sample have been tagged with both python and java. To make the task more challenging, I have removed the substrings python, java, and py from the questions.\n",
    "\n",
    "This task will require several steps. Feel free to adapt code from the in-class demonstration.\n",
    "\n",
    "Steps:\n",
    "- Read in the file python_or_java.csv\n",
    "- Process the text as discussed during the class.\n",
    "- Create a document-term matrix, weighted via TD-IDF.\n",
    "- Carry out a test-train split or cross-validation procedure\n",
    "- Train a classifier to distinguish Python from Java posts on training data.\n",
    "- Evaluate the performance of your classifier on held out data. You should report at least two evaluation statistics. What is the baseline accuracy of a classifier that always guesses Python?\n",
    "- What text features are most suggestive of a Python post? A Java post?"
   ]
  },
  {
   "cell_type": "markdown",
   "metadata": {},
   "source": [
    "1) Getting all the libraries and defining the data processing pipeline:"
   ]
  },
  {
   "cell_type": "code",
   "execution_count": 34,
   "metadata": {},
   "outputs": [
    {
     "name": "stderr",
     "output_type": "stream",
     "text": [
      "[nltk_data] Downloading package wordnet to /home/jovyan/nltk_data...\n",
      "[nltk_data]   Package wordnet is already up-to-date!\n",
      "[nltk_data] Downloading package punkt to /home/jovyan/nltk_data...\n",
      "[nltk_data]   Package punkt is already up-to-date!\n",
      "[nltk_data] Downloading package averaged_perceptron_tagger to\n",
      "[nltk_data]     /home/jovyan/nltk_data...\n",
      "[nltk_data]   Package averaged_perceptron_tagger is already up-to-\n",
      "[nltk_data]       date!\n",
      "[nltk_data] Downloading package stopwords to /home/jovyan/nltk_data...\n",
      "[nltk_data]   Package stopwords is already up-to-date!\n"
     ]
    }
   ],
   "source": [
    "#libraries for the data processing pipeline\n",
    "import string\n",
    "import nltk\n",
    "from nltk.stem import WordNetLemmatizer \n",
    "from nltk.corpus import wordnet\n",
    "from nltk.stem import PorterStemmer \n",
    "from nltk.corpus import stopwords\n",
    "nltk.download('wordnet')\n",
    "nltk.download('punkt')\n",
    "nltk.download('averaged_perceptron_tagger')\n",
    "nltk.download('stopwords')\n",
    "\n",
    "#libraries for training the model\n",
    "from sklearn.feature_extraction.text import TfidfVectorizer\n",
    "from sklearn.linear_model import LogisticRegression\n",
    "from sklearn.metrics import roc_auc_score\n",
    "from sklearn.metrics import plot_roc_curve\n",
    "from sklearn.metrics import confusion_matrix\n",
    "import matplotlib.pyplot as plt\n",
    "from sklearn.metrics import accuracy_score\n",
    "\n",
    "lemmatizer = WordNetLemmatizer()\n",
    "ps = PorterStemmer() \n",
    "en_stopwords= stopwords.words('english')\n",
    "\n",
    "def get_wordnet_pos(token):\n",
    "    \"\"\"Helper function: map POS tag to first character lemmatize() accepts\n",
    "    Taken from: https://www.machinelearningplus.com/nlp/lemmatization-examples-python/\n",
    "    \"\"\"\n",
    "    tag = nltk.pos_tag([token])[0][1][0].upper() #extract the information\n",
    "    tag_dict = {\"J\": wordnet.ADJ, #map\n",
    "                \"N\": wordnet.NOUN,\n",
    "                \"V\": wordnet.VERB,\n",
    "                \"R\": wordnet.ADV}\n",
    "    return tag_dict.get(tag, wordnet.NOUN) #guess noun if unknown\n",
    "\n",
    "\n",
    "def processing_pipeline(text):\n",
    "    '''takes a sentence and returns a lowercased, lemmatized, and stemmed list of tokens'''\n",
    "    tokens=nltk.word_tokenize(text)\n",
    "    lemmatized_tokens=[lemmatizer.lemmatize(token, get_wordnet_pos(token)) for token in tokens]\n",
    "    stemmed_tokens =[ps.stem(token) for token in lemmatized_tokens]\n",
    "    processed_tokens = [token for token in stemmed_tokens if token not in en_stopwords] #removing stopwords/common words\n",
    "    processed_tokens = [token for token in processed_tokens if token not in string.punctuation] #removing punctiuation\n",
    "    return processed_tokens"
   ]
  },
  {
   "cell_type": "markdown",
   "metadata": {},
   "source": [
    "2) Reading in th data and using the data processing pipeline to process the body of the Stack Overflow posts:"
   ]
  },
  {
   "cell_type": "code",
   "execution_count": 35,
   "metadata": {},
   "outputs": [],
   "source": [
    "df=pd.read_csv('python_or_java.csv')\n",
    "df['processed_body']=df['Body'].map(processing_pipeline)\n",
    "\n",
    "corpus= list([' '.join(text) for text in df['processed_body']])\n",
    "vectorizer = TfidfVectorizer(min_df=10, max_df=.5) \n",
    "#keep only those tokens in at least 10 document, and in at most 50% of documents\n",
    "\n",
    "DTM=vectorizer.fit_transform(corpus)\n",
    "y = np.array(df.python_post) "
   ]
  },
  {
   "cell_type": "markdown",
   "metadata": {},
   "source": [
    "The response variable is the indicator of whether a post is a python post: 1 - python, 0 - java"
   ]
  },
  {
   "cell_type": "markdown",
   "metadata": {},
   "source": [
    "3) Test-train split of the data and training a logistic regression classifier on the training data:"
   ]
  },
  {
   "cell_type": "code",
   "execution_count": 36,
   "metadata": {},
   "outputs": [
    {
     "name": "stderr",
     "output_type": "stream",
     "text": [
      "/opt/conda/lib/python3.8/site-packages/sklearn/linear_model/_sag.py:329: ConvergenceWarning: The max_iter was reached which means the coef_ did not converge\n",
      "  warnings.warn(\"The max_iter was reached which means \"\n"
     ]
    }
   ],
   "source": [
    "X_train, X_test, y_train, y_test = train_test_split(DTM, y, test_size=.5, random_state=42)\n",
    "\n",
    "reg = LogisticRegression(penalty='l1',solver='saga',C=10)\n",
    "reg.fit(X_train, y_train)\n",
    "y_pred = reg.predict_proba(X_test)[:,1]"
   ]
  },
  {
   "cell_type": "markdown",
   "metadata": {},
   "source": [
    "4) Calculating the accuracy score and area under the curve score (AUC) in order to see how well the model perform when compared to the baseline of 0.5 which is the accuracy of always predicting that a post is a python post:"
   ]
  },
  {
   "cell_type": "code",
   "execution_count": 37,
   "metadata": {},
   "outputs": [
    {
     "name": "stdout",
     "output_type": "stream",
     "text": [
      "Baseline Accuracy if we always guess irrelevant: .5\n",
      "Accuracy: 0.901\n",
      "----------------\n",
      "Confusion Matrix:\n",
      "[[449  44]\n",
      " [ 55 452]]\n",
      "----------------\n",
      "AUC Score: 0.965\n"
     ]
    },
    {
     "data": {
      "text/plain": [
       "Text(0, 0.5, 'True Positive Rate')"
      ]
     },
     "execution_count": 37,
     "metadata": {},
     "output_type": "execute_result"
    },
    {
     "data": {
      "image/png": "[encoded data removed]",
      "text/plain": [
       "<Figure size 1080x720 with 1 Axes>"
      ]
     },
     "metadata": {
      "needs_background": "light"
     },
     "output_type": "display_data"
    }
   ],
   "source": [
    "print('Baseline Accuracy if we always guess irrelevant: .5')\n",
    "print('Accuracy: ' + str(round(accuracy_score(y_test, reg.predict(X_test)),3)))\n",
    "print('----------------')\n",
    "print('Confusion Matrix:')\n",
    "print(confusion_matrix(y_test, reg.predict(X_test)))\n",
    "print('----------------')\n",
    "print('AUC Score: '+str(round(roc_auc_score(y_test,y_pred),3)))\n",
    "\n",
    "\n",
    "f,ax=plt.subplots(1,figsize=(15,10))\n",
    "plot_roc_curve(reg, X_test, y_test,ax=ax)\n",
    "ax.plot([0, 1], [0, 1], transform=ax.transAxes,color='grey',linestyle='--')\n",
    "plt.xlim([-.01,1.01])\n",
    "plt.ylim([-.01,1.01])\n",
    "plt.legend(prop={\"size\":15})\n",
    "plt.xlabel('False Positive Rate',size=20)\n",
    "plt.ylabel('True Positive Rate',size=20)"
   ]
  },
  {
   "cell_type": "markdown",
   "metadata": {},
   "source": [
    "The model performs much better than the baseline accuracy with an accuracy score of approximately 90% which means that the model classifies 90% of the posts correctly. The remaining 10% are false positives and false negative - see the confusion matrix. Moreover, the AUC measure is quite high as well which tells us that a randomly selected python post has a much higher probability of being a python post with the logistic regression model than a randomly selected java post."
   ]
  },
  {
   "cell_type": "markdown",
   "metadata": {},
   "source": [
    "5) Getting the top 10 features of python and java posts:"
   ]
  },
  {
   "cell_type": "code",
   "execution_count": 38,
   "metadata": {},
   "outputs": [],
   "source": [
    "top_positive_coefficients = pd.Series(reg.coef_[0]).sort_values(ascending=False).head(10)\n",
    "top_negative_coefficients = pd.Series(reg.coef_[0]).sort_values(ascending=False).tail(10)"
   ]
  },
  {
   "cell_type": "markdown",
   "metadata": {},
   "source": [
    "Top suggestive features of Python:"
   ]
  },
  {
   "cell_type": "code",
   "execution_count": 39,
   "metadata": {},
   "outputs": [
    {
     "name": "stdout",
     "output_type": "stream",
     "text": [
      "python\n",
      "def\n",
      "self\n",
      "modul\n",
      "print\n",
      "django\n",
      "function\n",
      "re\n",
      "model\n",
      "element\n"
     ]
    }
   ],
   "source": [
    "for x in top_positive_coefficients.index:\n",
    "    print(vectorizer.get_feature_names()[x])"
   ]
  },
  {
   "cell_type": "markdown",
   "metadata": {},
   "source": [
    "Top suggestive features of Java:"
   ]
  },
  {
   "cell_type": "code",
   "execution_count": 40,
   "metadata": {},
   "outputs": [
    {
     "name": "stdout",
     "output_type": "stream",
     "text": [
      "int\n",
      "void\n",
      "kindli\n",
      "netbean\n",
      "eclips\n",
      "privat\n",
      "android\n",
      "public\n",
      "new\n",
      "java\n"
     ]
    }
   ],
   "source": [
    "for x in top_negative_coefficients.index:\n",
    "    print(vectorizer.get_feature_names()[x])"
   ]
  }
 ],
 "metadata": {
  "kernelspec": {
   "display_name": "Python 3 (ipykernel)",
   "language": "python",
   "name": "python3"
  },
  "language_info": {
   "codemirror_mode": {
    "name": "ipython",
    "version": 3
   },
   "file_extension": ".py",
   "mimetype": "text/x-python",
   "name": "python",
   "nbconvert_exporter": "python",
   "pygments_lexer": "ipython3",
   "version": "3.9.7"
  }
 },
 "nbformat": 4,
 "nbformat_minor": 4
}
